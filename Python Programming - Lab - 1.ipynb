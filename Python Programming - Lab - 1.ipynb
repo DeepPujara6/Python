{
 "cells": [
  {
   "cell_type": "markdown",
   "metadata": {},
   "source": [
    "<a href='https://www.darshan.ac.in/'> <img src='https://www.darshan.ac.in/Content/media/DU_Logo.svg' width=\"250\" height=\"300\"/></a>\n",
    "<pre>\n",
    "<center><b><h1>Python Programming - 2101CS405</b></center>\n",
    "<center><b><h1>Lab - 1</b></center>    \n",
    "<pre>"
   ]
  },
  {
   "cell_type": "markdown",
   "metadata": {},
   "source": [
    "### 01) WAP to print “Hello World”"
   ]
  },
  {
   "cell_type": "code",
   "execution_count": 2,
   "metadata": {},
   "outputs": [
    {
     "name": "stdout",
     "output_type": "stream",
     "text": [
      "Hello World\n"
     ]
    }
   ],
   "source": [
    "print(\"Hello World\")"
   ]
  },
  {
   "cell_type": "markdown",
   "metadata": {},
   "source": [
    "### 02) WAP to print your address i) using single print ii) using multiple print"
   ]
  },
  {
   "cell_type": "code",
   "execution_count": 3,
   "metadata": {},
   "outputs": [
    {
     "name": "stdout",
     "output_type": "stream",
     "text": [
      "abc building , xyz road , rajkot\n",
      "abc road\n",
      "xyz building\n",
      "rajkot\n"
     ]
    }
   ],
   "source": [
    "print(\"abc building , xyz road , rajkot\")\n",
    "print(\"abc road\")\n",
    "print(\"xyz building\")\n",
    "print(\"rajkot\")"
   ]
  },
  {
   "cell_type": "markdown",
   "metadata": {},
   "source": [
    "### 03) WAP to print addition of 2 numbers (without input function)"
   ]
  },
  {
   "cell_type": "code",
   "execution_count": 4,
   "metadata": {},
   "outputs": [
    {
     "name": "stdout",
     "output_type": "stream",
     "text": [
      "30\n"
     ]
    }
   ],
   "source": [
    "a = 10\n",
    "b = 20\n",
    "c = a+b\n",
    "print(c)"
   ]
  },
  {
   "cell_type": "markdown",
   "metadata": {},
   "source": [
    "### 04) WAP to calculate and print average of 2 numbers (without input function)"
   ]
  },
  {
   "cell_type": "code",
   "execution_count": 5,
   "metadata": {},
   "outputs": [
    {
     "name": "stdout",
     "output_type": "stream",
     "text": [
      "Average= 15.0\n"
     ]
    }
   ],
   "source": [
    "a = 10\n",
    "b = 20\n",
    "c = a+b\n",
    "d = c/2\n",
    "print(\"Average=\",d)"
   ]
  },
  {
   "cell_type": "markdown",
   "metadata": {},
   "source": [
    " 05) WAP to add two number entered by user."
   ]
  },
  {
   "cell_type": "code",
   "execution_count": 3,
   "metadata": {},
   "outputs": [
    {
     "name": "stdout",
     "output_type": "stream",
     "text": [
      "20\n"
     ]
    }
   ],
   "source": [
    "a = int(input(\"Enter Number 1=\"))\n",
    "b = int (input(\"Enter Number 2=\"))\n",
    "c = a+b\n",
    "print(c)"
   ]
  },
  {
   "cell_type": "markdown",
   "metadata": {},
   "source": [
    "### 06) WAP to calculate simple interest."
   ]
  },
  {
   "cell_type": "code",
   "execution_count": null,
   "metadata": {},
   "outputs": [],
   "source": [
    "a = int (input(\"Enter Principle Amount=\"))\n",
    "interest = int (input(\"Enter Interest\"))\n",
    "n = int (input(\"Enter Years\"))\n",
    "\n",
    "calc = a*interest*n / 100\n",
    "\n",
    "print(calc)"
   ]
  },
  {
   "cell_type": "markdown",
   "metadata": {},
   "source": [
    "### 07) WAP Calculate Area and Circumfrence of Circle"
   ]
  },
  {
   "cell_type": "code",
   "execution_count": 4,
   "metadata": {},
   "outputs": [
    {
     "name": "stdout",
     "output_type": "stream",
     "text": [
      "Area of circle= 78.5\n",
      "Circumference of Circle= 31.400000000000002\n"
     ]
    }
   ],
   "source": [
    "a = 3.14\n",
    "b =int (input(\"Enter radius:\"))\n",
    "c = a * b * b\n",
    "print(\"Area of circle=\",c)\n",
    "\n",
    "d = 2 * a * b\n",
    "print(\"Circumference of Circle=\",d)"
   ]
  },
  {
   "cell_type": "markdown",
   "metadata": {},
   "source": [
    "### 08) WAP to print Multiplication table of given number without using loops."
   ]
  },
  {
   "cell_type": "code",
   "execution_count": 4,
   "metadata": {},
   "outputs": [
    {
     "name": "stdout",
     "output_type": "stream",
     "text": [
      "5 *1= 5\n",
      "5 *2= 10\n",
      "5 *3= 15\n",
      "5 *4= 20\n",
      "5 *5= 25\n",
      "5 *6= 30\n",
      "5 *7= 35\n",
      "5 *8= 40\n",
      "5 *9= 45\n",
      "5 *10= 50\n"
     ]
    }
   ],
   "source": [
    "a = int(input(\"Enter Number=\"))\n",
    "print(a,\"*1=\",a*1)\n",
    "print(a,\"*2=\",a*2)\n",
    "print(a,\"*3=\",a*3)\n",
    "print(a,\"*4=\",a*4)\n",
    "print(a,\"*5=\",a*5)\n",
    "print(a,\"*6=\",a*6)\n",
    "print(a,\"*7=\",a*7)\n",
    "print(a,\"*8=\",a*8)\n",
    "print(a,\"*9=\",a*9)\n",
    "print(a,\"*10=\",a*10)\n"
   ]
  },
  {
   "cell_type": "markdown",
   "metadata": {},
   "source": [
    "### 09) WAP to calculate Area of Triangle (hint: a = h * b * 0.5)"
   ]
  },
  {
   "cell_type": "code",
   "execution_count": 5,
   "metadata": {},
   "outputs": [
    {
     "name": "stdout",
     "output_type": "stream",
     "text": [
      "250\n"
     ]
    }
   ],
   "source": [
    "l = int (input(\"Enter Length:\"))\n",
    "b = int (input(\"Enter Breadth:\"))\n",
    "h = int (input(\"Enter Height:\"))\n",
    "\n",
    "calc = l*b*h\n",
    "print(calc)"
   ]
  },
  {
   "cell_type": "markdown",
   "metadata": {},
   "source": [
    "### 10) WAP to convert degree to Fahrenheit and vice versa."
   ]
  },
  {
   "cell_type": "code",
   "execution_count": 6,
   "metadata": {},
   "outputs": [
    {
     "name": "stdout",
     "output_type": "stream",
     "text": [
      "201.20000000000002\n",
      "93.88888888888889\n"
     ]
    }
   ],
   "source": [
    "cel = int (input(\"Enter Celsius:\"))\n",
    "far = 1.8*cel+32\n",
    "print(far)\n",
    "\n",
    "far = int (input(\"Enter Farenheit:\"))\n",
    "cel = (far-32)/1.8\n",
    "print(cel)"
   ]
  },
  {
   "cell_type": "markdown",
   "metadata": {},
   "source": [
    "### 11) WAP to calculate total marks and Percentage."
   ]
  },
  {
   "cell_type": "code",
   "execution_count": 7,
   "metadata": {},
   "outputs": [
    {
     "name": "stdout",
     "output_type": "stream",
     "text": [
      "Percentage= 80.0 %\n"
     ]
    }
   ],
   "source": [
    "sub1 = int (input(\"Enter Marks of Sub1:\"))\n",
    "sub2 = int (input(\"Enter Marks of Sub2:\"))\n",
    "sub3 = int (input(\"Enter Marks of Sub3:\"))\n",
    "sub4 = int (input(\"Enter Marks of Sub4:\"))\n",
    "sub5 = int (input(\"Enter Marks of Sub5:\"))\n",
    "\n",
    "total = sub1 + sub2 + sub3 + sub4 + sub5\n",
    "\n",
    "percent = (total/500)*100\n",
    "\n",
    "print(\"Percentage=\",percent,\"%\")"
   ]
  },
  {
   "cell_type": "markdown",
   "metadata": {},
   "source": [
    "### 12) Compute distance between two points taking input from the user (Pythagorean Theorem)."
   ]
  },
  {
   "cell_type": "code",
   "execution_count": 12,
   "metadata": {},
   "outputs": [
    {
     "name": "stdout",
     "output_type": "stream",
     "text": [
      "Distance= 45.0\n"
     ]
    }
   ],
   "source": [
    "x1 = int(input(\"Enter X1=\"))\n",
    "x2 = int(input(\"Enter X2=\"))\n",
    "y1 = int(input(\"Enter Y1=\"))\n",
    "y2 = int(input(\"Enter Y2=\"))\n",
    "\n",
    "distance = (((x1-x2)**2) + ((y1-y2)**2))**(0.5)\n",
    "print(\"Distance=\",distance)"
   ]
  },
  {
   "cell_type": "markdown",
   "metadata": {},
   "source": [
    "### 13) WAP to convert seconds into hours, minutes & seconds and print in HH:MM:SS\n",
    "[e.g. 10000 seconds mean 2:46:40 (2 Hours, 46 Minutes, 40Seconds)]"
   ]
  },
  {
   "cell_type": "code",
   "execution_count": 8,
   "metadata": {},
   "outputs": [
    {
     "name": "stdout",
     "output_type": "stream",
     "text": [
      "TIME:2:46:40\n"
     ]
    }
   ],
   "source": [
    "sec = int (input(\"Enter Seconds\"))\n",
    "\n",
    "hours = sec//3600\n",
    "minutes = (sec%3600)//60\n",
    "seconds = (sec%3600)%60\n",
    "print(\"TIME\",hours,minutes,seconds,sep=\":\")\n",
    "\n"
   ]
  },
  {
   "cell_type": "markdown",
   "metadata": {},
   "source": [
    "### 14) WAP to enter distance into kilometer and convert it into meter, feet,inches, and centimeter"
   ]
  },
  {
   "cell_type": "code",
   "execution_count": null,
   "metadata": {},
   "outputs": [],
   "source": [
    "km = int(input(\"Enter Kilometers=\"))\n",
    "\n",
    "meters = km*1000\n",
    "ft = km*3280.84\n",
    "inches = km*39370.08\n",
    "cm = km*100000\n",
    "\n",
    "print(\"Meters=\",meters)\n",
    "print(\"Feet=\",ft)\n",
    "print(\"Inches=\",inches)\n",
    "print(\"Centimeters\",cm)"
   ]
  }
 ],
 "metadata": {
  "kernelspec": {
   "display_name": "Python 3.10.5 64-bit",
   "language": "python",
   "name": "python3"
  },
  "language_info": {
   "codemirror_mode": {
    "name": "ipython",
    "version": 3
   },
   "file_extension": ".py",
   "mimetype": "text/x-python",
   "name": "python",
   "nbconvert_exporter": "python",
   "pygments_lexer": "ipython3",
   "version": "3.10.5 (tags/v3.10.5:f377153, Jun  6 2022, 16:14:13) [MSC v.1929 64 bit (AMD64)]"
  },
  "vscode": {
   "interpreter": {
    "hash": "fbc768028c3e6ead51d9a200ddcb2ec858ae62844dcd1994729a8279be9b48f2"
   }
  }
 },
 "nbformat": 4,
 "nbformat_minor": 4
}
