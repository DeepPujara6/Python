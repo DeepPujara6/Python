{
 "cells": [
  {
   "cell_type": "markdown",
   "metadata": {},
   "source": [
    "\n",
    "<a href='https://www.darshan.ac.in/'> <img src='https://www.darshan.ac.in/Content/media/DU_Logo.svg' width=\"250\" height=\"300\"/></a>\n",
    "<pre>\n",
    "<center><b><h1>Python Programming - 2101CS405</b></center>\n",
    "<center><b><h1>Lab - 2</b></center>    \n",
    "<pre>"
   ]
  },
  {
   "cell_type": "markdown",
   "metadata": {},
   "source": [
    "# if..else.."
   ]
  },
  {
   "cell_type": "markdown",
   "metadata": {},
   "source": [
    "### 01) WAP to check whether the given number is positive or negative."
   ]
  },
  {
   "cell_type": "code",
   "execution_count": 1,
   "metadata": {},
   "outputs": [
    {
     "name": "stdout",
     "output_type": "stream",
     "text": [
      "Number is Positive\n"
     ]
    }
   ],
   "source": [
    "num = int (input(\"Enter Number\"))\n",
    "\n",
    "if (num>0):\n",
    "    print(\"Number is Positive\")\n",
    "\n",
    "elif (num<0):\n",
    "    print(\"Number is Negative\")\n",
    "else:\n",
    "    print(\"Number is Zero\")"
   ]
  },
  {
   "cell_type": "markdown",
   "metadata": {},
   "source": [
    "### 02) WAP to check whether the given number is odd or even"
   ]
  },
  {
   "cell_type": "code",
   "execution_count": 2,
   "metadata": {},
   "outputs": [
    {
     "name": "stdout",
     "output_type": "stream",
     "text": [
      "Number is Even\n"
     ]
    }
   ],
   "source": [
    "num = int (input(\"Enter Number\"))\n",
    "\n",
    "if (num%2==0):\n",
    "    print(\"Number is Even\")\n",
    "else:\n",
    "    print(\"Number is Odd\")"
   ]
  },
  {
   "cell_type": "markdown",
   "metadata": {},
   "source": [
    "### 03) WAP to find out largest number from given two numbers using simple if and ternary operator."
   ]
  },
  {
   "cell_type": "code",
   "execution_count": 1,
   "metadata": {},
   "outputs": [
    {
     "name": "stdout",
     "output_type": "stream",
     "text": [
      "20 is Largest\n"
     ]
    }
   ],
   "source": [
    "a = int(input(\"Enter Number 1=\"))\n",
    "b = int(input(\"Enter Number 2=\"))\n",
    "max = a if a > b else b\n",
    "\n",
    "print(max,\"is Largest\")"
   ]
  },
  {
   "cell_type": "markdown",
   "metadata": {},
   "source": [
    "### 04) WAP to find out largest number from given three numbers."
   ]
  },
  {
   "cell_type": "code",
   "execution_count": null,
   "metadata": {},
   "outputs": [],
   "source": [
    "num1 = int (input(\"Enter Number1=\"))\n",
    "num2 = int (input(\"Enter Number2=\"))\n",
    "num3 = int (input(\"Enter Number3=\"))\n",
    "\n",
    "if (num1>num2  and num1>num3):\n",
    "    print(num1,\"is Maximum\")\n",
    "\n",
    "elif(num2>num1  and num2>num3):\n",
    "    print(num2,\"is Maximum\")\n",
    "\n",
    "else:\n",
    "    print(num3,\"is Maximum\")\n"
   ]
  },
  {
   "cell_type": "markdown",
   "metadata": {},
   "source": [
    "### 05) WAP to check whether the given year is leap year or not.\n",
    "[If a year can be divisible by 4 but not divisible by 100 then it is leap year but if it is divisible by 400 then it is leap year]"
   ]
  },
  {
   "cell_type": "code",
   "execution_count": 2,
   "metadata": {},
   "outputs": [
    {
     "name": "stdout",
     "output_type": "stream",
     "text": [
      "Wohoo! Its a Leap Year\n"
     ]
    }
   ],
   "source": [
    "Year = int (input(\"Enter Year\"))\n",
    "\n",
    "if (Year%4==0 and Year%100!=0 or Year%400==0):\n",
    "    print(\"Wohoo! Its a Leap Year\")\n",
    "else:\n",
    "    print(\"Not a Leap Year\")\n"
   ]
  },
  {
   "cell_type": "markdown",
   "metadata": {},
   "source": [
    "### 06) WAP in python to display the name of the day according to the number given by the user"
   ]
  },
  {
   "cell_type": "code",
   "execution_count": null,
   "metadata": {},
   "outputs": [],
   "source": [
    "num = int (input(\"Enter Number=\"))\n",
    "\n",
    "if(num==1):\n",
    "    print(\"Its Monday\")\n",
    "\n",
    "elif(num==2):\n",
    "    print(\"Its Tuesday\")\n",
    "\n",
    "elif(num==3):\n",
    "    print(\"Its Wednesday\")\n",
    "\n",
    "elif(num==4):\n",
    "    print(\"Its Thursday\")\n",
    "\n",
    "elif(num==5):\n",
    "    print(\"Its Friday\")\n",
    "\n",
    "elif(num==6):\n",
    "    print(\"Its Saturday\")\n",
    "\n",
    "else:\n",
    "     print(\"Its Sunday\")\n",
    "    "
   ]
  },
  {
   "cell_type": "markdown",
   "metadata": {},
   "source": [
    "### 07) WAP to implement simple calculator which performs (add,sub,mul,div) of two no. based on user input."
   ]
  },
  {
   "cell_type": "code",
   "execution_count": null,
   "metadata": {},
   "outputs": [],
   "source": [
    "num1 =int(input(\"Enter Number1=\"))\n",
    "num2 =int(input(\"Enter Number2=\"))\n",
    "\n",
    "print(\"Enter + for addition\")\n",
    "print(\"Enter - for Subtraction\")\n",
    "print(\"Enter * for Multiplication\")\n",
    "print(\"Enter / for Division\")\n",
    "\n",
    "num =(input(\"Enter=\"))\n",
    "\n",
    "if(num=='+'):\n",
    "    print(\"Addition\",num1+num2)\n",
    "\n",
    "elif(num=='-'):\n",
    "    print(\"Subtraction\",num1-num2)\n",
    "\n",
    "elif(num=='*'):\n",
    "    print(\"Multiplication\",num1*num2)\n",
    "\n",
    "elif(num=='/'):\n",
    "    print(\"Division\",num1/num2)\n"
   ]
  },
  {
   "cell_type": "markdown",
   "metadata": {},
   "source": [
    "### 08) WAP to calculate electricity bill based on following criteria. Which takes the unit from the user.\n",
    "a. First 1 to 50 units – Rs. 2.60/unit</br>\n",
    "b. Next 50 to 100 units – Rs. 3.25/unit</br>\n",
    "c. Next 100 to 200 units – Rs. 5.26/unit</br>\n",
    "d. above 200 units – Rs. 8.45/unit"
   ]
  },
  {
   "cell_type": "code",
   "execution_count": 3,
   "metadata": {},
   "outputs": [
    {
     "name": "stdout",
     "output_type": "stream",
     "text": [
      "Bill= 130.0\n"
     ]
    }
   ],
   "source": [
    "unit = int(input(\"Enter unit=\"))\n",
    "if unit <= 50:\n",
    "    bill = unit * 2.60\n",
    "elif unit <= 100:\n",
    "    bill = 130 + ((unit - 50) * 3.25)\n",
    "elif unit <= 200:\n",
    "    bill = 162.5 + ((unit - 100) * 5.26)\n",
    "else:\n",
    "    bill = 263 + ((unit - 250) * 8.45)\n",
    "print(\"Bill=\", bill)"
   ]
  },
  {
   "cell_type": "markdown",
   "metadata": {},
   "source": [
    "### 01) WAP to read marks of five subjects. Calculate percentage and print class accordingly. \n",
    "Fail below 35 </br>\n",
    "Pass Class between 35 to 45 </br>\n",
    "Second Class</br>\n",
    "between 45 to 60</br>\n",
    "First Class between 60 to 70</br> \n",
    "Distinction if more than 70"
   ]
  },
  {
   "cell_type": "code",
   "execution_count": 1,
   "metadata": {},
   "outputs": [
    {
     "name": "stdout",
     "output_type": "stream",
     "text": [
      "Distinction\n"
     ]
    }
   ],
   "source": [
    "sub1 = int(input(\"Enter Marks pf Sub1=\"))\n",
    "sub2 = int(input(\"Enter Marks pf Sub2=\"))\n",
    "sub3 = int(input(\"Enter Marks pf Sub3=\"))\n",
    "sub4 = int(input(\"Enter Marks pf Sub4=\"))\n",
    "sub5 = int(input(\"Enter Marks pf Sub5=\"))\n",
    "\n",
    "total = sub1 + sub2 + sub3 + sub4 + sub5\n",
    "\n",
    "percent = (total/500)*100\n",
    "\n",
    "if (percent>70):\n",
    "    print(\"Distinction\")\n",
    "elif(percent>=60 and percent<70):\n",
    "    print(\"First Class\")\n",
    "elif(percent>=45 and percent<60):\n",
    "    print(\"Second Class\")\n",
    "elif(percent>=35 and percent<45):\n",
    "    print(\"Pass Class\")\n",
    "elif(percent<35):\n",
    "    print(\"Sorry! You are fail\")\n",
    "\n",
    "\n"
   ]
  },
  {
   "cell_type": "markdown",
   "metadata": {},
   "source": [
    "### 02) WAP to find out the Maximum and Minimum number from given 4 numbers."
   ]
  },
  {
   "cell_type": "code",
   "execution_count": 1,
   "metadata": {},
   "outputs": [
    {
     "name": "stdout",
     "output_type": "stream",
     "text": [
      "100 is Maximum\n"
     ]
    }
   ],
   "source": [
    "num1 = int (input(\"Enter Number1=\"))\n",
    "num2 = int (input(\"Enter Number2=\"))\n",
    "num3 = int (input(\"Enter Number3=\"))\n",
    "num4 = int (input(\"Enter Number4=\"))\n",
    "\n",
    "if (num1>num2  and num1>num3 and num1>num4):\n",
    "    print(num1,\"is Maximum\")\n",
    "\n",
    "elif(num2>num1  and num2>num3 and num2>num4):\n",
    "    print(num2,\"is Maximum\")\n",
    "\n",
    "elif(num3>num1 and num3>num2 and num3>num4):\n",
    "    print(num3,\"is Maximum\")\n",
    "\n",
    "else:\n",
    "    print(num4,\"is Maximum\")\n"
   ]
  },
  {
   "cell_type": "markdown",
   "metadata": {},
   "source": [
    "### 03) WAP to input an integer number and check the last digit of number is even or odd."
   ]
  },
  {
   "cell_type": "code",
   "execution_count": 4,
   "metadata": {},
   "outputs": [
    {
     "name": "stdout",
     "output_type": "stream",
     "text": [
      "Last Digit is Even\n"
     ]
    }
   ],
   "source": [
    "n = int(input(\"enter n=\"))\n",
    "r=n%10;\n",
    "if r%2==0:\n",
    "    print(\"Last Digit is Even\")\n",
    "else:\n",
    "    print(\"Last Digit is Odd\")"
   ]
  },
  {
   "cell_type": "markdown",
   "metadata": {},
   "source": [
    "### 04) WAP to determine the roots of the equation ax2+bx+c=0."
   ]
  },
  {
   "cell_type": "code",
   "execution_count": 6,
   "metadata": {},
   "outputs": [
    {
     "name": "stdout",
     "output_type": "stream",
     "text": [
      "5.0 2.0\n"
     ]
    }
   ],
   "source": [
    "a = int(input(\"enter n=\"))\n",
    "b = int(input(\"enter n=\"))\n",
    "c = int(input(\"enter n=\"))\n",
    "d = b*b - 4*a*c\n",
    "if d>0:\n",
    "    r1 = (-b + (d)**0.5)/2*a\n",
    "    r2 = (-b - (d)**0.5)/2*a\n",
    "    print(r1,r2)\n",
    "elif d==0:\n",
    "    r1 = -b/2*a\n",
    "    print(r1)"
   ]
  }
 ],
 "metadata": {
  "kernelspec": {
   "display_name": "Python 3.11.0 64-bit",
   "language": "python",
   "name": "python3"
  },
  "language_info": {
   "codemirror_mode": {
    "name": "ipython",
    "version": 3
   },
   "file_extension": ".py",
   "mimetype": "text/x-python",
   "name": "python",
   "nbconvert_exporter": "python",
   "pygments_lexer": "ipython3",
   "version": "3.11.0"
  },
  "vscode": {
   "interpreter": {
    "hash": "c261aea317cc0286b3b3261fbba9abdec21eaa57589985bb7a274bf54d6cc0a7"
   }
  }
 },
 "nbformat": 4,
 "nbformat_minor": 4
}
