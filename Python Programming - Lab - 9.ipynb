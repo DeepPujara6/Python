{
 "cells": [
  {
   "cell_type": "markdown",
   "metadata": {},
   "source": [
    "<a href='https://www.darshan.ac.in/'> <img src='https://www.darshan.ac.in/Content/media/DU_Logo.svg' width=\"250\" height=\"300\"/></a>\n",
    "<pre>\n",
    "<center><b><h1>Python Programming - 2101CS405</b></center>\n",
    "<center><b><h1>Lab - 9</b></center>    \n",
    "<pre>"
   ]
  },
  {
   "cell_type": "markdown",
   "metadata": {},
   "source": [
    "# Exception Handling"
   ]
  },
  {
   "cell_type": "markdown",
   "metadata": {},
   "source": [
    "# A"
   ]
  },
  {
   "cell_type": "markdown",
   "metadata": {},
   "source": [
    "### 01) WAP to handle divide by zero exception."
   ]
  },
  {
   "cell_type": "code",
   "execution_count": 3,
   "metadata": {},
   "outputs": [
    {
     "name": "stdout",
     "output_type": "stream",
     "text": [
      "division by zero\n"
     ]
    }
   ],
   "source": [
    "try:\n",
    "    num1 = int(input(\"Enter First Number: \"))\n",
    "    num2 = int(input(\"Enter Second Number: \"))\n",
    "\n",
    "    result = num1 / num2\n",
    "\n",
    "    print(result)\n",
    "except ValueError as e:\n",
    "    print(\"Invalid Input Please Input Integer...\")\n",
    "except ZeroDivisionError as e:\n",
    "    print(e)"
   ]
  },
  {
   "cell_type": "markdown",
   "metadata": {},
   "source": [
    "### 02)  Write a Python program that inputs a number and generates an error message if it is not a number."
   ]
  },
  {
   "cell_type": "code",
   "execution_count": 7,
   "metadata": {},
   "outputs": [
    {
     "name": "stdout",
     "output_type": "stream",
     "text": [
      "\n",
      "This is not a number. Try again...\n"
     ]
    }
   ],
   "source": [
    "while True:\n",
    "    try:\n",
    "        a = int(input(\"Input a number: \"))\n",
    "        break\n",
    "    except ValueError:\n",
    "        print(\"\\nThis is not a number. Try again...\")"
   ]
  },
  {
   "cell_type": "markdown",
   "metadata": {},
   "source": [
    "### 03) WAP to handle file not found Exception"
   ]
  },
  {
   "cell_type": "code",
   "execution_count": 9,
   "metadata": {},
   "outputs": [
    {
     "name": "stdout",
     "output_type": "stream",
     "text": [
      "Hello World !\n",
      "i'm Sanket\n"
     ]
    }
   ],
   "source": [
    "try:\n",
    "    f = open('E:/test file/a1.txt', 'r')\n",
    "    print(f.read())\n",
    "    f.close()\n",
    "except IOError:\n",
    "    print('file not found')"
   ]
  },
  {
   "cell_type": "markdown",
   "metadata": {},
   "source": [
    "### 04) WAP to handle type Exception."
   ]
  },
  {
   "cell_type": "code",
   "execution_count": 11,
   "metadata": {},
   "outputs": [
    {
     "name": "stdout",
     "output_type": "stream",
     "text": [
      "Second element = 2\n",
      "An error occurred\n"
     ]
    }
   ],
   "source": [
    "a = [1, 2, 3]\n",
    "try:\n",
    "\tprint (\"Second element = %d\" %(a[1]))\n",
    "\tprint (\"Fourth element = %d\" %(a[3]))\n",
    "\n",
    "except:\n",
    "\tprint (\"An error occurred\")\n"
   ]
  },
  {
   "cell_type": "markdown",
   "metadata": {},
   "source": [
    "### 05) WAP to demonstrate valueError and indexError with example."
   ]
  },
  {
   "cell_type": "code",
   "execution_count": 65,
   "metadata": {},
   "outputs": [
    {
     "name": "stdout",
     "output_type": "stream",
     "text": [
      "Your Name is : Parth and your ID is : 1\n"
     ]
    }
   ],
   "source": [
    "try:\n",
    "   employees = [\"Parth\",\"Amit\",\"Rahul\",\"Darshan\",\"Vraj\"]\n",
    "\n",
    "   id = int(input(\"Enter Id (1-3):\"))\n",
    "   print(\"Your Name is :\",employees[id-1],\"and your ID is :\",id)\n",
    "\n",
    "except ValueError as ex:\n",
    "    print(ex)\n",
    "\n",
    "except IndexError as ex:\n",
    "    print(ex)"
   ]
  },
  {
   "cell_type": "markdown",
   "metadata": {},
   "source": [
    "### 06) WAP to domonstrate else  and finally block."
   ]
  },
  {
   "cell_type": "code",
   "execution_count": 4,
   "metadata": {},
   "outputs": [
    {
     "name": "stdout",
     "output_type": "stream",
     "text": [
      "Sorry ! You are dividing by zero \n",
      "This is always executed\n"
     ]
    }
   ],
   "source": [
    "try:\n",
    "\tx = int(input(\"Enter First Number: \"))\n",
    "\ty = int(input(\"Enter Second Number: \"))\n",
    "    \n",
    "\tresult = x // y\n",
    "except ZeroDivisionError:\n",
    "\t\tprint(\"Sorry ! You are dividing by zero \")\n",
    "else:\n",
    "\t\tprint(\"Your answer is :\", result)\n",
    "finally:\n",
    "\t\tprint('This is always executed')\n"
   ]
  },
  {
   "cell_type": "markdown",
   "metadata": {},
   "source": [
    "### 07) Create a short program that prompts the user for a list of grades separated by commas. Split the string into individual grades and use a list comprehension to convert each string to an integer. You should use a try statement to inform the user when the values they entered cannot be converted."
   ]
  },
  {
   "cell_type": "code",
   "execution_count": 20,
   "metadata": {},
   "outputs": [
    {
     "name": "stdout",
     "output_type": "stream",
     "text": [
      "The grades you entered were in an invalid format.\n"
     ]
    }
   ],
   "source": [
    "grades = input(\"Please enter your grades, separated by commas: \").split(\",\")\n",
    "\n",
    "try:\n",
    "    grades = [int(grade) for grade in grades]\n",
    "    print(\"Entered Grades in Integer is :\",grades)\n",
    "except ValueError:\n",
    "    print(\"The grades you entered were in an invalid format.\")"
   ]
  },
  {
   "cell_type": "markdown",
   "metadata": {},
   "source": [
    "# B"
   ]
  },
  {
   "cell_type": "markdown",
   "metadata": {},
   "source": [
    "### 01) WAP to Raising User Generated Exception."
   ]
  },
  {
   "cell_type": "code",
   "execution_count": 49,
   "metadata": {},
   "outputs": [
    {
     "name": "stdout",
     "output_type": "stream",
     "text": [
      "Age must be greater than zero\n"
     ]
    }
   ],
   "source": [
    "class AgeError(Exception):\n",
    "    def init(message=\"Age must be greater than zero\"):\n",
    "        return(message)\n",
    "\n",
    "try:\n",
    "    age = int(input(\"Enter Age : \"))\n",
    "    if age<=0:\n",
    "        raise AgeError(\"Age must be greater than zero\")\n",
    "    else:\n",
    "        if age>=18:\n",
    "            print(\"You are eligible to Vote\")\n",
    "        else:\n",
    "            print(\"You are not eligible to Vote\")\n",
    "                        \n",
    "except AgeError as ex:\n",
    "    print(ex)\n"
   ]
  },
  {
   "cell_type": "markdown",
   "metadata": {},
   "source": [
    "### 02) WAP to raise your custom Exception."
   ]
  },
  {
   "cell_type": "code",
   "execution_count": 61,
   "metadata": {},
   "outputs": [
    {
     "name": "stdout",
     "output_type": "stream",
     "text": [
      "Entered Number is Zero (Neither Positive nor Negative)\n"
     ]
    }
   ],
   "source": [
    "class ZeroError(Exception):\n",
    "    def init(Massage=\"Entered Number is Zero (Neither Positive nor Negative)\"):\n",
    "        return(Massage)\n",
    "\n",
    "try:\n",
    "    number = int(input(\"Enter Value Of Number :\"))\n",
    "    if number>0 :\n",
    "        print(\"Entered Number is Positive\")\n",
    "    elif number<0 :\n",
    "        print(\"Entered Number is Negative\")\n",
    "    else :\n",
    "        if number==0 :\n",
    "            raise ZeroError(\"Entered Number is Zero (Neither Positive nor Negative)\")\n",
    "\n",
    "except ZeroError as ex :\n",
    "    print(ex) "
   ]
  }
 ],
 "metadata": {
  "kernelspec": {
   "display_name": "base",
   "language": "python",
   "name": "python3"
  },
  "language_info": {
   "codemirror_mode": {
    "name": "ipython",
    "version": 3
   },
   "file_extension": ".py",
   "mimetype": "text/x-python",
   "name": "python",
   "nbconvert_exporter": "python",
   "pygments_lexer": "ipython3",
   "version": "3.9.13"
  },
  "vscode": {
   "interpreter": {
    "hash": "d66112998521399a9abf5716df753254eaf884f9c94a9394872699fcdd6e7cd2"
   }
  }
 },
 "nbformat": 4,
 "nbformat_minor": 4
}
